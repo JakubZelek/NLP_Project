{
 "cells": [
  {
   "cell_type": "code",
   "execution_count": null,
   "metadata": {
    "collapsed": true,
    "pycharm": {
     "name": "#%%\n"
    }
   },
   "outputs": [],
   "source": [
    "# Test mT5 on PL\n",
    "!torchrun scripts/test.py -c examples/mt5_base_pl_test.yml 2>&1 | tee ./out/test_mt5_pl/log.log"
   ]
  },
  {
   "cell_type": "code",
   "execution_count": null,
   "outputs": [],
   "source": [
    "# Test mT5 on Slavic\n",
    "!torchrun scripts/test.py -c examples/mt5_base_slavic_test.yml 2>&1 | tee ./out/test_mt5_slavic/log.log"
   ],
   "metadata": {
    "collapsed": false,
    "pycharm": {
     "name": "#%%\n"
    }
   }
  },
  {
   "cell_type": "code",
   "execution_count": null,
   "outputs": [],
   "source": [
    "# Test mT5 on Slavic Extended\n",
    "!torchrun scripts/test.py -c examples/mt5_base_slavic_ext_test.yml 2>&1 | tee ./out/test_mt5_slavic_ext/log.log"
   ],
   "metadata": {
    "collapsed": false,
    "pycharm": {
     "name": "#%%\n"
    }
   }
  },
  {
   "cell_type": "code",
   "execution_count": null,
   "outputs": [],
   "source": [
    "# Test mT5 on Romance\n",
    "!torchrun scripts/test.py -c examples/mt5_base_romance_test.yml 2>&1 | tee ./out/test_mt5_romance/log.log"
   ],
   "metadata": {
    "collapsed": false,
    "pycharm": {
     "name": "#%%\n"
    }
   }
  },
  {
   "cell_type": "code",
   "execution_count": null,
   "outputs": [],
   "source": [
    "# Test XLM-R on PL\n",
    "!torchrun scripts/test.py -c examples/xlmr_base_pl_test.yml 2>&1 | tee ./out/test_xlmr_pl/log."
   ],
   "metadata": {
    "collapsed": false,
    "pycharm": {
     "name": "#%%\n"
    }
   }
  },
  {
   "cell_type": "code",
   "execution_count": null,
   "outputs": [],
   "source": [
    "# Test XLM-R on Slavic\n",
    "!torchrun scripts/test.py -c examples/xlmr_base_slavic_test.yml 2>&1 | tee ./out/test_xlmr_slavic/log."
   ],
   "metadata": {
    "collapsed": false,
    "pycharm": {
     "name": "#%%\n"
    }
   }
  },
  {
   "cell_type": "code",
   "execution_count": null,
   "outputs": [],
   "source": [
    "# Test XLM-R on Slavic Extended\n",
    "!torchrun scripts/test.py -c examples/xlmr_base_slavic_ext_test.yml 2>&1 | tee ./out/test_xlmr_slavic_ext/log."
   ],
   "metadata": {
    "collapsed": false,
    "pycharm": {
     "name": "#%%\n"
    }
   }
  },
  {
   "cell_type": "code",
   "execution_count": null,
   "outputs": [],
   "source": [
    "# Test XLM-R on Romance\n",
    "!torchrun scripts/test.py -c examples/xlmr_base_romance_test.yml 2>&1 | tee ./out/test_xlmr_romance/log."
   ],
   "metadata": {
    "collapsed": false,
    "pycharm": {
     "name": "#%%\n"
    }
   }
  },
  {
   "cell_type": "code",
   "execution_count": null,
   "outputs": [],
   "source": [
    "# Test mT5 T2T on PL\n",
    "!torchrun scripts/test.py -c examples/mt5_base_t2t_pl_test.yml 2>&1 | tee ./out/test_mt5_t2t_pl/log.log"
   ],
   "metadata": {
    "collapsed": false,
    "pycharm": {
     "name": "#%%\n"
    }
   }
  },
  {
   "cell_type": "code",
   "execution_count": null,
   "outputs": [],
   "source": [
    "# Test mT5 T2T on Slavic\n",
    "!torchrun scripts/test.py -c examples/mt5_base_t2t_slavic_test.yml 2>&1 | tee ./out/test_mt5_t2t_slavic/log.log"
   ],
   "metadata": {
    "collapsed": false,
    "pycharm": {
     "name": "#%%\n"
    }
   }
  },
  {
   "cell_type": "code",
   "execution_count": null,
   "outputs": [],
   "source": [
    "# Test mT5 T2T on Slavic Extended\n",
    "!torchrun scripts/test.py -c examples/mt5_base_t2t_slavic_ext_test.yml 2>&1 | tee ./out/test_mt5_t2t_slavic_ext/log.log"
   ],
   "metadata": {
    "collapsed": false,
    "pycharm": {
     "name": "#%%\n"
    }
   }
  }
 ],
 "metadata": {
  "kernelspec": {
   "display_name": "Python 3",
   "language": "python",
   "name": "python3"
  },
  "language_info": {
   "codemirror_mode": {
    "name": "ipython",
    "version": 2
   },
   "file_extension": ".py",
   "mimetype": "text/x-python",
   "name": "python",
   "nbconvert_exporter": "python",
   "pygments_lexer": "ipython2",
   "version": "2.7.6"
  }
 },
 "nbformat": 4,
 "nbformat_minor": 0
}