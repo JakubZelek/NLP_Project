{
 "cells": [
  {
   "cell_type": "code",
   "execution_count": 1,
   "metadata": {
    "collapsed": false,
    "pycharm": {
     "name": "#%%\n"
    }
   },
   "outputs": [],
   "source": [
    "!mkdir -p ./saved_models/\n",
    "\n",
    "!mkdir -p ./out/mt5_pl/\n",
    "!mkdir -p ./out/test_mt5_pl/\n",
    "!mkdir -p ./out/mt5_slavic/\n",
    "!mkdir -p ./out/test_mt5_slavic/\n",
    "!mkdir -p ./out/mt5_slavic_ext/\n",
    "!mkdir -p ./out/test_mt5_slavic_ext/\n",
    "!mkdir -p ./out/mt5_romance/\n",
    "!mkdir -p ./out/test_mt5_romance/\n",
    "\n",
    "!mkdir -p ./out/xlmr_pl/\n",
    "!mkdir -p ./out/test_xlmr_pl/\n",
    "!mkdir -p ./out/xlmr_slavic/\n",
    "!mkdir -p ./out/test_xlmr_slavic/\n",
    "!mkdir -p ./out/xlmr_slavic_ext/\n",
    "!mkdir -p ./out/test_xlmr_slavic_ext/\n",
    "!mkdir -p ./out/xlmr_romance/\n",
    "!mkdir -p ./out/test_xlmr_romance/"
   ]
  },
  {
   "cell_type": "code",
   "execution_count": null,
   "metadata": {
    "collapsed": true,
    "pycharm": {
     "is_executing": true,
     "name": "#%%\n"
    }
   },
   "outputs": [],
   "source": [
    "!python download_massive_dataset.py"
   ]
  },
  {
   "cell_type": "code",
   "execution_count": null,
   "metadata": {
    "collapsed": false,
    "pycharm": {
     "name": "#%%\n",
     "is_executing": true
    }
   },
   "outputs": [],
   "source": [
    "# Translate and augment dataset for more slavic languages\n",
    "!mkdir -p ./Massive/translated/data\n",
    "!python scripts/translate.py -p Massive/1.0/data/en-US.jsonl -dp Massive/translated/data"
   ]
  },
  {
   "cell_type": "code",
   "execution_count": 3,
   "outputs": [],
   "source": [
    "!mkdir -p ./Massive/pl\n",
    "!mkdir -p ./Massive/slavic\n",
    "!mkdir -p ./Massive/slavic_ext\n",
    "!mkdir -p ./Massive/romance\n",
    "\n",
    "!cp -r ./Massive/1.0/* Massive/pl/\n",
    "!cp -r ./Massive/1.0/* Massive/slavic/\n",
    "!cp -r ./Massive/1.0/* Massive/romance/\n",
    "!cp -r ./Massive/1.0/* Massive/slavic_ext/\n",
    "!cp -r ./Massive/translated/* Massive/slavic_ext/"
   ],
   "metadata": {
    "collapsed": false,
    "pycharm": {
     "name": "#%%\n"
    }
   }
  },
  {
   "cell_type": "code",
   "execution_count": 6,
   "outputs": [],
   "source": [
    "!find ./Massive/pl/data/ -type f -not -name 'pl-PL.jsonl' -delete\n",
    "!find ./Massive/slavic/data/ -type f -not \\( -name 'pl-PL.jsonl' -or -name 'ru-RU.jsonl' -or -name 'sl-SL.jsonl' \\) -delete\n",
    "!find ./Massive/slavic_ext/data/ -type f -not \\( -name 'pl-PL.jsonl' -or -name 'ru-RU.jsonl' -or -name 'sl-SL.jsonl' -or -name 'cs-CS.json' -or -name 'hr-HR.json' -or -name 'sr-SR.json' -or -name 'uk-UK.json' \\) -delete\n",
    "!find ./Massive/romance/data/ -type f -not \\( -name 'fr-FR.jsonl' -or -name 'it-IT.jsonl' -or -name 'es-ES.jsonl' -or -name 'ro-RO.jsonl' -or -name 'pt-PT.jsonl' \\) -delete"
   ],
   "metadata": {
    "collapsed": false,
    "pycharm": {
     "name": "#%%\n"
    }
   }
  },
  {
   "cell_type": "code",
   "execution_count": null,
   "outputs": [],
   "source": [
    "!python scripts/create_hf_dataset.py -d Massive/pl/data -o Massive/pl_ds/\n",
    "!python scripts/create_hf_dataset.py -d Massive/slavic/data -o Massive/slavic_ds/\n",
    "!python scripts/create_hf_dataset.py -d Massive/slavic_ext/data -o Massive/slavic_ext_ds/\n",
    "!python scripts/create_hf_dataset.py -d Massive/romance/data -o Massive/romance_ds/"
   ],
   "metadata": {
    "collapsed": false,
    "pycharm": {
     "name": "#%%\n",
     "is_executing": true
    }
   }
  }
 ],
 "metadata": {
  "kernelspec": {
   "display_name": "Python 3",
   "language": "python",
   "name": "python3"
  },
  "language_info": {
   "codemirror_mode": {
    "name": "ipython",
    "version": 2
   },
   "file_extension": ".py",
   "mimetype": "text/x-python",
   "name": "python",
   "nbconvert_exporter": "python",
   "pygments_lexer": "ipython2",
   "version": "2.7.6"
  }
 },
 "nbformat": 4,
 "nbformat_minor": 0
}