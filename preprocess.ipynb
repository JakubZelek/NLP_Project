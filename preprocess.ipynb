{
 "cells": [
  {
   "cell_type": "code",
   "execution_count": 1,
   "outputs": [],
   "source": [
    "!mkdir -p ./saved_models/\n",
    "!mkdir -p ./out/mt5_pl/\n",
    "!mkdir -p ./out/test_mt5_pl/\n",
    "!mkdir -p ./out/mt5_slavic/\n",
    "!mkdir -p ./out/test_mt5_slavic/\n",
    "!mkdir -p ./out/xlmr_pl/\n",
    "!mkdir -p ./out/test_xlmr_pl/\n",
    "!mkdir -p ./out/xlmr_slavic/\n",
    "!mkdir -p ./out/test_xlmr_slavic/"
   ],
   "metadata": {
    "collapsed": false,
    "pycharm": {
     "name": "#%%\n"
    }
   }
  },
  {
   "cell_type": "code",
   "execution_count": null,
   "metadata": {
    "collapsed": true,
    "pycharm": {
     "name": "#%%\n",
     "is_executing": true
    }
   },
   "outputs": [],
   "source": [
    "!python download_massive_dataset.py"
   ]
  },
  {
   "cell_type": "code",
   "execution_count": 3,
   "outputs": [],
   "source": [
    "!mkdir -p ./Massive/pl\n",
    "!mkdir -p ./Massive/slavic\n",
    "\n",
    "!cp -r ./Massive/1.0/* Massive/pl/\n",
    "!cp -r ./Massive/1.0/* Massive/slavic/"
   ],
   "metadata": {
    "collapsed": false,
    "pycharm": {
     "name": "#%%\n"
    }
   }
  },
  {
   "cell_type": "code",
   "execution_count": 6,
   "outputs": [],
   "source": [
    "!find ./Massive/pl/data/ -type f -not -name 'pl-PL.jsonl' -delete\n",
    "!find ./Massive/slavic/data/ -type f -not \\( -name 'pl-PL.jsonl' -or -name 'ru-RU.jsonl' -or -name 'sl-SL.jsonl' \\) -delete"
   ],
   "metadata": {
    "collapsed": false,
    "pycharm": {
     "name": "#%%\n"
    }
   }
  },
  {
   "cell_type": "code",
   "execution_count": null,
   "outputs": [],
   "source": [
    "!python scripts/create_hf_dataset.py -d Massive/pl/data -o Massive/pl_ds/\n",
    "!python scripts/create_hf_dataset.py -d Massive/slavic/data -o Massive/slavic_ds/"
   ],
   "metadata": {
    "collapsed": false,
    "pycharm": {
     "name": "#%%\n",
     "is_executing": true
    }
   }
  },
  {
   "cell_type": "code",
   "execution_count": null,
   "outputs": [],
   "source": [],
   "metadata": {
    "collapsed": false,
    "pycharm": {
     "name": "#%%\n"
    }
   }
  }
 ],
 "metadata": {
  "kernelspec": {
   "display_name": "Python 3",
   "language": "python",
   "name": "python3"
  },
  "language_info": {
   "codemirror_mode": {
    "name": "ipython",
    "version": 2
   },
   "file_extension": ".py",
   "mimetype": "text/x-python",
   "name": "python",
   "nbconvert_exporter": "python",
   "pygments_lexer": "ipython2",
   "version": "2.7.6"
  }
 },
 "nbformat": 4,
 "nbformat_minor": 0
}