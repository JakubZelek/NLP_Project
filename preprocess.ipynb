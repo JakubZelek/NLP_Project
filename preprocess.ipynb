{
 "cells": [
  {
   "cell_type": "code",
   "execution_count": 3,
   "metadata": {
    "collapsed": false,
    "pycharm": {
     "name": "#%%\n"
    }
   },
   "outputs": [],
   "source": [
    "!mkdir -p ./saved_models/\n",
    "!mkdir -p ./saved_models/t5/\n",
    "\n",
    "!mkdir -p ./out/mt5_pl/\n",
    "!mkdir -p ./out/test_mt5_pl/\n",
    "!mkdir -p ./out/mt5_sl/\n",
    "!mkdir -p ./out/test_mt5_sl/\n",
    "!mkdir -p ./out/mt5_ru/\n",
    "!mkdir -p ./out/test_mt5_ru/\n",
    "!mkdir -p ./out/mt5_slavic/\n",
    "!mkdir -p ./out/test_mt5_slavic/\n",
    "!mkdir -p ./out/mt5_slavic_ext/\n",
    "!mkdir -p ./out/test_mt5_slavic_ext/\n",
    "!mkdir -p ./out/mt5_romance/\n",
    "!mkdir -p ./out/test_mt5_romance/\n",
    "!mkdir -p ./out/mt5_romance_bias/\n",
    "!mkdir -p ./out/test_mt5_romance_bias/\n",
    "\n",
    "!mkdir -p ./out/t5_pl/\n",
    "!mkdir -p ./out/test_t5_pl/\n",
    "\n",
    "!mkdir -p ./out/t5_t2t_pl/\n",
    "!mkdir -p ./out/test_t5_t2t_pl/\n",
    "!mkdir -p ./out/t5_t2t_sl/\n",
    "!mkdir -p ./out/test_t5_t2t_sl/\n",
    "!mkdir -p ./out/t5_t2t_ru/\n",
    "!mkdir -p ./out/test_t5_t2t_ru/\n",
    "\n",
    "!mkdir -p ./out/xlmr_pl/\n",
    "!mkdir -p ./out/test_xlmr_pl/\n",
    "!mkdir -p ./out/xlmr_slavic/\n",
    "!mkdir -p ./out/test_xlmr_slavic/\n",
    "!mkdir -p ./out/xlmr_slavic_ext/\n",
    "!mkdir -p ./out/test_xlmr_slavic_ext/\n",
    "!mkdir -p ./out/xlmr_romance/\n",
    "!mkdir -p ./out/test_xlmr_romance/\n",
    "!mkdir -p ./out/xlmr_romance_bias/\n",
    "!mkdir -p ./out/test_xlmr_romance_bias/"
   ]
  },
  {
   "cell_type": "code",
   "execution_count": 7,
   "metadata": {
    "collapsed": true,
    "pycharm": {
     "name": "#%%\n"
    }
   },
   "outputs": [
    {
     "name": "stdout",
     "output_type": "stream",
     "text": [
      "DOWNLOADING...\r\n",
      "EXTRACTING TO /Users/molion/Documents/uj/IV/nlp_with_dl/project/NLP_Project/Massive\r\n",
      "REMOVING massive.tar.gz\r\n",
      "DONE.\r\n",
      "Some weights of the model checkpoint at google/mt5-base were not used when initializing MT5Model: ['lm_head.weight']\r\n",
      "- This IS expected if you are initializing MT5Model from the checkpoint of a model trained on another task or with another architecture (e.g. initializing a BertForSequenceClassification model from a BertForPreTraining model).\r\n",
      "- This IS NOT expected if you are initializing MT5Model from the checkpoint of a model that you expect to be exactly identical (initializing a BertForSequenceClassification model from a BertForSequenceClassification model).\r\n"
     ]
    }
   ],
   "source": [
    "!python download_massive_dataset.py"
   ]
  },
  {
   "cell_type": "code",
   "execution_count": 8,
   "metadata": {
    "collapsed": false,
    "pycharm": {
     "name": "#%%\n"
    }
   },
   "outputs": [
    {
     "name": "stdout",
     "output_type": "stream",
     "text": [
      "cs: downloaded.\r\n",
      "hr: downloaded.\r\n",
      "uk: downloaded.\r\n",
      "sr: downloaded.\r\n"
     ]
    }
   ],
   "source": [
    "# Translate and augment dataset for more slavic languages\n",
    "!mkdir -p ./Massive/translated/data\n",
    "!python scripts/translate.py -p Massive/1.0/data/en-US.jsonl -dp Massive/translated/data"
   ]
  },
  {
   "cell_type": "code",
   "execution_count": 9,
   "outputs": [],
   "source": [
    "!mkdir -p ./Massive/pl\n",
    "!mkdir -p ./Massive/sl\n",
    "!mkdir -p ./Massive/ru\n",
    "!mkdir -p ./Massive/slavic\n",
    "!mkdir -p ./Massive/slavic_ext\n",
    "!mkdir -p ./Massive/romance\n",
    "!mkdir -p ./Massive/romance_bias\n",
    "\n",
    "!cp -r ./Massive/1.0/* Massive/pl/\n",
    "!cp -r ./Massive/1.0/* Massive/sl/\n",
    "!cp -r ./Massive/1.0/* Massive/ru/\n",
    "!cp -r ./Massive/1.0/* Massive/slavic/\n",
    "!cp -r ./Massive/1.0/* Massive/romance/\n",
    "!cp -r ./Massive/1.0/* Massive/romance_bias/\n",
    "!cp -r ./Massive/1.0/* Massive/slavic_ext/\n",
    "!cp -r ./Massive/translated/* Massive/slavic_ext/"
   ],
   "metadata": {
    "collapsed": false,
    "pycharm": {
     "name": "#%%\n"
    }
   }
  },
  {
   "cell_type": "code",
   "execution_count": 12,
   "outputs": [],
   "source": [
    "!find ./Massive/pl/data/ -type f -not -name 'pl-PL.jsonl' -delete\n",
    "!find ./Massive/sl/data/ -type f -not -name 'sl-SL.jsonl' -delete\n",
    "!find ./Massive/ru/data/ -type f -not -name 'ru-RU.jsonl' -delete\n",
    "!find ./Massive/slavic/data/ -type f -not \\( -name 'pl-PL.jsonl' -or -name 'ru-RU.jsonl' -or -name 'sl-SL.jsonl' \\) -delete\n",
    "!find ./Massive/slavic_ext/data/ -type f -not \\( -name 'pl-PL.jsonl' -or -name 'ru-RU.jsonl' -or -name 'sl-SL.jsonl' -or -name 'cs-CS.json' -or -name 'hr-HR.json' -or -name 'sr-SR.json' -or -name 'uk-UK.json' \\) -delete\n",
    "!find ./Massive/romance/data/ -type f -not \\( -name 'fr-FR.jsonl' -or -name 'it-IT.jsonl' -or -name 'es-ES.jsonl' -or -name 'ro-RO.jsonl' -or -name 'pt-PT.jsonl' \\) -delete\n",
    "!find ./Massive/romance_bias/data/ -type f -not \\( -name 'fr-FR.jsonl' -or -name 'it-IT.jsonl' -or -name 'es-ES.jsonl' -or -name 'ro-RO.jsonl' -or -name 'pt-PT.jsonl' -or -name 'ja-JP.jsonl' -or -name 'zh-CN.jsonl' \\) -delete"
   ],
   "metadata": {
    "collapsed": false,
    "pycharm": {
     "name": "#%%\n"
    }
   }
  },
  {
   "cell_type": "code",
   "execution_count": null,
   "outputs": [],
   "source": [
    "!python scripts/create_hf_dataset.py -d Massive/pl/data -o Massive/pl_ds/\n",
    "!python scripts/create_hf_dataset.py -d Massive/sl/data -o Massive/sl_ds/\n",
    "!python scripts/create_hf_dataset.py -d Massive/ru/data -o Massive/ru_ds/\n",
    "!python scripts/create_hf_dataset.py -d Massive/slavic/data -o Massive/slavic_ds/\n",
    "!python scripts/create_hf_dataset.py -d Massive/slavic_ext/data -o Massive/slavic_ext_ds/\n",
    "!python scripts/create_hf_dataset.py -d Massive/romance/data -o Massive/romance_ds/\n",
    "!python scripts/create_hf_dataset.py -d Massive/romance_bias/data -o Massive/romance_bias_ds/"
   ],
   "metadata": {
    "collapsed": false,
    "pycharm": {
     "name": "#%%\n",
     "is_executing": true
    }
   }
  }
 ],
 "metadata": {
  "kernelspec": {
   "display_name": "Python 3",
   "language": "python",
   "name": "python3"
  },
  "language_info": {
   "codemirror_mode": {
    "name": "ipython",
    "version": 2
   },
   "file_extension": ".py",
   "mimetype": "text/x-python",
   "name": "python",
   "nbconvert_exporter": "python",
   "pygments_lexer": "ipython2",
   "version": "2.7.6"
  }
 },
 "nbformat": 4,
 "nbformat_minor": 0
}